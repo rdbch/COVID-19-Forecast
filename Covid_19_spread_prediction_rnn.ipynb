{
 "cells": [
  {
   "cell_type": "code",
   "execution_count": 1,
   "metadata": {},
   "outputs": [
    {
     "name": "stderr",
     "output_type": "stream",
     "text": [
      "\n",
      "Bad key \"text.kerning_factor\" on line 4 in\n",
      "c:\\users\\beche\\anaconda3\\envs\\covid-19-playground\\lib\\site-packages\\matplotlib\\mpl-data\\stylelib\\_classic_test_patch.mplstyle.\n",
      "You probably need to get an updated matplotlibrc file from\n",
      "https://github.com/matplotlib/matplotlib/blob/v3.1.3/matplotlibrc.template\n",
      "or from the matplotlib source distribution\n"
     ]
    }
   ],
   "source": [
    "import os\n",
    "import time\n",
    "import torch\n",
    "import warnings \n",
    "import statistics\n",
    "\n",
    "import numpy   as np \n",
    "import pandas  as pd\n",
    "from pandas_profiling import ProfileReport\n",
    "\n",
    "import seaborn as sns\n",
    "from matplotlib import pyplot as plt\n",
    "\n",
    "from sklearn.metrics       import mean_squared_log_error\n",
    "from sklearn.preprocessing import StandardScaler\n",
    "\n",
    "from tqdm.notebook    import tqdm\n",
    "from IPython.display  import display_html \n",
    "\n",
    "from torch import nn\n",
    "from torch import optim"
   ]
  },
  {
   "cell_type": "code",
   "execution_count": 2,
   "metadata": {},
   "outputs": [],
   "source": [
    "from core.networks  import BasicRecurrentPredictor\n",
    "from core.nn        import WeightInitializer\n",
    "\n",
    "from core.data      import compare_countries as cc\n",
    "from core.data      import utils             as dataUtils\n",
    "\n",
    "from core.nn        import loss"
   ]
  },
  {
   "cell_type": "code",
   "execution_count": 3,
   "metadata": {},
   "outputs": [],
   "source": [
    "warnings.filterwarnings('ignore')\n",
    "sns.set()\n",
    "\n",
    "torch.manual_seed(123);\n",
    "torch.cuda.manual_seed(123)\n",
    "np.random.seed(123)"
   ]
  },
  {
   "cell_type": "code",
   "execution_count": 4,
   "metadata": {},
   "outputs": [],
   "source": [
    "allData = pd.read_csv('assets/train.csv', parse_dates=['Date'])"
   ]
  },
  {
   "cell_type": "code",
   "execution_count": 5,
   "metadata": {},
   "outputs": [
    {
     "data": {
      "text/html": [
       "<div>\n",
       "<style scoped>\n",
       "    .dataframe tbody tr th:only-of-type {\n",
       "        vertical-align: middle;\n",
       "    }\n",
       "\n",
       "    .dataframe tbody tr th {\n",
       "        vertical-align: top;\n",
       "    }\n",
       "\n",
       "    .dataframe thead th {\n",
       "        text-align: right;\n",
       "    }\n",
       "</style>\n",
       "<table border=\"1\" class=\"dataframe\">\n",
       "  <thead>\n",
       "    <tr style=\"text-align: right;\">\n",
       "      <th></th>\n",
       "      <th>Id</th>\n",
       "      <th>Province_State</th>\n",
       "      <th>Country_Region</th>\n",
       "      <th>Date</th>\n",
       "      <th>ConfirmedCases</th>\n",
       "      <th>Fatalities</th>\n",
       "    </tr>\n",
       "  </thead>\n",
       "  <tbody>\n",
       "    <tr>\n",
       "      <th>0</th>\n",
       "      <td>1</td>\n",
       "      <td>Afghanistan</td>\n",
       "      <td>Afghanistan</td>\n",
       "      <td>2020-01-22</td>\n",
       "      <td>0.0</td>\n",
       "      <td>0.0</td>\n",
       "    </tr>\n",
       "    <tr>\n",
       "      <th>1</th>\n",
       "      <td>2</td>\n",
       "      <td>Afghanistan</td>\n",
       "      <td>Afghanistan</td>\n",
       "      <td>2020-01-23</td>\n",
       "      <td>0.0</td>\n",
       "      <td>0.0</td>\n",
       "    </tr>\n",
       "    <tr>\n",
       "      <th>2</th>\n",
       "      <td>3</td>\n",
       "      <td>Afghanistan</td>\n",
       "      <td>Afghanistan</td>\n",
       "      <td>2020-01-24</td>\n",
       "      <td>0.0</td>\n",
       "      <td>0.0</td>\n",
       "    </tr>\n",
       "    <tr>\n",
       "      <th>3</th>\n",
       "      <td>4</td>\n",
       "      <td>Afghanistan</td>\n",
       "      <td>Afghanistan</td>\n",
       "      <td>2020-01-25</td>\n",
       "      <td>0.0</td>\n",
       "      <td>0.0</td>\n",
       "    </tr>\n",
       "    <tr>\n",
       "      <th>4</th>\n",
       "      <td>5</td>\n",
       "      <td>Afghanistan</td>\n",
       "      <td>Afghanistan</td>\n",
       "      <td>2020-01-26</td>\n",
       "      <td>0.0</td>\n",
       "      <td>0.0</td>\n",
       "    </tr>\n",
       "  </tbody>\n",
       "</table>\n",
       "</div>"
      ],
      "text/plain": [
       "   Id Province_State Country_Region       Date  ConfirmedCases  Fatalities\n",
       "0   1    Afghanistan    Afghanistan 2020-01-22             0.0         0.0\n",
       "1   2    Afghanistan    Afghanistan 2020-01-23             0.0         0.0\n",
       "2   3    Afghanistan    Afghanistan 2020-01-24             0.0         0.0\n",
       "3   4    Afghanistan    Afghanistan 2020-01-25             0.0         0.0\n",
       "4   5    Afghanistan    Afghanistan 2020-01-26             0.0         0.0"
      ]
     },
     "execution_count": 5,
     "metadata": {},
     "output_type": "execute_result"
    }
   ],
   "source": [
    "allData = dataUtils.preprocess_data(allData)\n",
    "allData.head()"
   ]
  },
  {
   "cell_type": "code",
   "execution_count": 6,
   "metadata": {},
   "outputs": [],
   "source": [
    "COUNTRY = 'Romania'\n",
    "WIN_SIZE = 10\n",
    "OBS_SIZE = 5\n",
    "TRAIN_UP_TO  = pd.to_datetime('2020-04-07')\n",
    "DEVICE = 'cpu'"
   ]
  },
  {
   "cell_type": "code",
   "execution_count": 7,
   "metadata": {},
   "outputs": [],
   "source": [
    "errorData  = cc.get_nearest_sequence(allData, COUNTRY, 500, 20 , loss.l1_norm_error)"
   ]
  },
  {
   "cell_type": "code",
   "execution_count": 8,
   "metadata": {},
   "outputs": [],
   "source": [
    "confData = dataUtils.get_target_data(allData, errorData, 0.5, COUNTRY, target = 'confirmed')\n",
    "deadData = dataUtils.get_target_data(allData, errorData, 0.5, COUNTRY, target = 'fatalities')"
   ]
  },
  {
   "cell_type": "code",
   "execution_count": 9,
   "metadata": {},
   "outputs": [],
   "source": [
    "confScaler = dataUtils.get_scaler(confData, 'confirmed')\n",
    "deadScaler = dataUtils.get_scaler(deadData, 'fatalities')"
   ]
  },
  {
   "cell_type": "code",
   "execution_count": 10,
   "metadata": {},
   "outputs": [],
   "source": [
    "confTrainData = dataUtils.get_train_data(confData, 'confirmed', TRAIN_UP_TO, WIN_SIZE, 2, scaler = confScaler)\n",
    "deadTrainData = dataUtils.get_train_data(deadData, 'fatalities', TRAIN_UP_TO, WIN_SIZE, 2, scaler = deadScaler)"
   ]
  },
  {
   "cell_type": "code",
   "execution_count": 11,
   "metadata": {},
   "outputs": [],
   "source": [
    "w = WeightInitializer()"
   ]
  },
  {
   "cell_type": "markdown",
   "metadata": {},
   "source": [
    "## Confirmed"
   ]
  },
  {
   "cell_type": "code",
   "execution_count": 12,
   "metadata": {},
   "outputs": [],
   "source": [
    "# build the model\n",
    "confModel = BasicRecurrentPredictor(\n",
    "            # basic parameters\n",
    "            chNo        = 1,                  # number of input features\n",
    "            hidChNo     = 128,                # number of RNN cell hidden dimension\n",
    "            future      = 0,\n",
    "    \n",
    "            # rnn cell type and depth\n",
    "            rnnCell     = 'LSTMCell',         # RNN cell type (LSTM/GRU/RNN)\n",
    "            rnnNoCells  = 2,                  # no of RNN cells\n",
    "\n",
    "            # multi layer perceptron that is applied to the output of rnn\n",
    "            mlpLayerCfg   = [64,64],           # layer hidden dims\n",
    "            mlpActiv      = 'PReLU',           # inner activation of the mlp\n",
    "            dropRate      = None,              # dropout rate for each layer of mlp\n",
    "            normType      = None,              # normalization type\n",
    "            mlpActivLast  = None,              # note that every timestamp in the sequence will be activated too\n",
    "            returnFullSeq = True).build()"
   ]
  },
  {
   "cell_type": "code",
   "execution_count": 13,
   "metadata": {},
   "outputs": [],
   "source": [
    "w.init_weights(confModel, 'normal_', {})"
   ]
  },
  {
   "cell_type": "code",
   "execution_count": 14,
   "metadata": {},
   "outputs": [
    {
     "data": {
      "text/plain": [
       "torch.Size([213, 10, 1])"
      ]
     },
     "execution_count": 14,
     "metadata": {},
     "output_type": "execute_result"
    }
   ],
   "source": [
    "confTrainData = dataUtils.get_train_data(confData, 'confirmed', \n",
    "                                      step       = 2,\n",
    "                                      winSize    = WIN_SIZE, \n",
    "                                      trainLimit = TRAIN_UP_TO, \n",
    "                                      scaler     = confScaler,\n",
    "                                      shuffle    = True)\n",
    "confTrainData.shape"
   ]
  },
  {
   "cell_type": "code",
   "execution_count": 15,
   "metadata": {},
   "outputs": [],
   "source": [
    "confLoss  = nn.MSELoss()\n",
    "confOptim = optim.LBFGS(confModel.parameters(), \n",
    "                        lr             = 0.065, \n",
    "                        max_iter       = 50, \n",
    "                        tolerance_grad = 1e-7, \n",
    "                        history_size   = 75)"
   ]
  },
  {
   "cell_type": "code",
   "execution_count": 16,
   "metadata": {},
   "outputs": [],
   "source": [
    "confModel.to(DEVICE);\n",
    "confTrainData = confTrainData.to(DEVICE);"
   ]
  },
  {
   "cell_type": "code",
   "execution_count": 17,
   "metadata": {},
   "outputs": [],
   "source": [
    "def conf_closure():\n",
    "    confOptim.zero_grad()\n",
    "    \n",
    "    future  = WIN_SIZE - OBS_SIZE\n",
    "    obsData = confTrainData[:,:OBS_SIZE]\n",
    "    \n",
    "    out  = confModel(obsData, future = future).reshape(-1,WIN_SIZE, 1)\n",
    "    loss = confLoss(out, confTrainData)\n",
    "    loss.backward()\n",
    "#     nn.utils.clip_grad_value_(model.rnnModel.parameters(), 10e+1)\n",
    "    \n",
    "    return loss"
   ]
  },
  {
   "cell_type": "code",
   "execution_count": 18,
   "metadata": {
    "scrolled": true
   },
   "outputs": [
    {
     "data": {
      "application/vnd.jupyter.widget-view+json": {
       "model_id": "e4abfb82293140809505cab633d533f1",
       "version_major": 2,
       "version_minor": 0
      },
      "text/plain": [
       "HBox(children=(FloatProgress(value=0.0, max=10.0), HTML(value='')))"
      ]
     },
     "metadata": {},
     "output_type": "display_data"
    },
    {
     "name": "stdout",
     "output_type": "stream",
     "text": [
      "STEP:  0\n",
      "Loss:  729.4046630859375\n",
      "STEP:  1\n",
      "Loss:  0.7863373160362244\n",
      "STEP:  2\n",
      "Loss:  0.03704420104622841\n",
      "STEP:  3\n",
      "Loss:  0.009488021023571491\n",
      "STEP:  4\n",
      "Loss:  0.00649484246969223\n",
      "STEP:  5\n",
      "Loss:  0.005023346748203039\n",
      "STEP:  6\n",
      "Loss:  0.004035197664052248\n",
      "STEP:  7\n",
      "Loss:  0.0038527073338627815\n",
      "STEP:  8\n",
      "Loss:  0.003627027617767453\n",
      "STEP:  9\n",
      "Loss:  0.0033547335769981146\n",
      "\n"
     ]
    }
   ],
   "source": [
    "for i in tqdm(range(10)):\n",
    "    print('STEP: ', i)    \n",
    "    loss = confOptim.step(conf_closure)\n",
    "    print('Loss: ', loss.item())\n",
    "    \n",
    "    if torch.isnan(loss):\n",
    "        raise ValueError('Loss is NaN')"
   ]
  },
  {
   "cell_type": "code",
   "execution_count": null,
   "metadata": {},
   "outputs": [],
   "source": [
    "convValData = dataUtils.get_val_data()"
   ]
  },
  {
   "cell_type": "code",
   "execution_count": 19,
   "metadata": {},
   "outputs": [
    {
     "ename": "NameError",
     "evalue": "name 'model' is not defined",
     "output_type": "error",
     "traceback": [
      "\u001b[1;31m---------------------------------------------------------------------------\u001b[0m",
      "\u001b[1;31mNameError\u001b[0m                                 Traceback (most recent call last)",
      "\u001b[1;32m<ipython-input-19-c69420375eb1>\u001b[0m in \u001b[0;36m<module>\u001b[1;34m\u001b[0m\n\u001b[1;32m----> 1\u001b[1;33m \u001b[0mmodel\u001b[0m\u001b[1;33m.\u001b[0m\u001b[0meval\u001b[0m\u001b[1;33m(\u001b[0m\u001b[1;33m)\u001b[0m\u001b[1;33m\u001b[0m\u001b[1;33m\u001b[0m\u001b[0m\n\u001b[0m\u001b[0;32m      2\u001b[0m \u001b[1;33m\u001b[0m\u001b[0m\n\u001b[0;32m      3\u001b[0m \u001b[1;31m# get figure\u001b[0m\u001b[1;33m\u001b[0m\u001b[1;33m\u001b[0m\u001b[1;33m\u001b[0m\u001b[0m\n\u001b[0;32m      4\u001b[0m \u001b[0mfig\u001b[0m\u001b[1;33m,\u001b[0m \u001b[0max\u001b[0m \u001b[1;33m=\u001b[0m \u001b[0mplt\u001b[0m\u001b[1;33m.\u001b[0m\u001b[0msubplots\u001b[0m\u001b[1;33m(\u001b[0m\u001b[1;36m1\u001b[0m\u001b[1;33m,\u001b[0m \u001b[1;36m1\u001b[0m\u001b[1;33m,\u001b[0m \u001b[0mfigsize\u001b[0m \u001b[1;33m=\u001b[0m \u001b[1;33m(\u001b[0m\u001b[1;36m9\u001b[0m\u001b[1;33m,\u001b[0m \u001b[1;36m4\u001b[0m\u001b[1;33m)\u001b[0m\u001b[1;33m)\u001b[0m\u001b[1;33m\u001b[0m\u001b[1;33m\u001b[0m\u001b[0m\n\u001b[0;32m      5\u001b[0m \u001b[0mfig\u001b[0m\u001b[1;33m.\u001b[0m\u001b[0msuptitle\u001b[0m\u001b[1;33m(\u001b[0m\u001b[0mCOUNTRY\u001b[0m \u001b[1;33m+\u001b[0m \u001b[1;34m' prediction'\u001b[0m\u001b[1;33m)\u001b[0m\u001b[1;33m\u001b[0m\u001b[1;33m\u001b[0m\u001b[0m\n",
      "\u001b[1;31mNameError\u001b[0m: name 'model' is not defined"
     ]
    }
   ],
   "source": [
    "model.eval()\n",
    "\n",
    "# get figure\n",
    "fig, ax = plt.subplots(1, 1, figsize = (9, 4))\n",
    "fig.suptitle(COUNTRY + ' prediction')\n",
    "\n",
    "# prepera data for prediction\n",
    "d = confirmedTrain[confirmedTrain['Province_State'] == COUNTRY] \n",
    "dPred = confScaler.transform(d['ConfirmedCases'].values.reshape(-1, 1))\n",
    "dPred = torch.Tensor(dPred).unsqueeze(0).to(DEVICE)\n",
    "\n",
    "# make prediction\n",
    "pred   = model(dPred[:,-OBS_SIZE:], future = 50).cpu().detach().numpy()\n",
    "pred   = confScaler.inverse_transform(pred[0])\n",
    "\n",
    "# plot prediction\n",
    "predDate = pd.date_range(start = d['Date'].values[-OBS_SIZE], periods=pred.shape[0])              \n",
    "sns.lineplot(y = pred, x = predDate, ax = ax)\n",
    "\n",
    "# plot train data\n",
    "dPred = confScaler.inverse_transform(dPred[0].cpu())\n",
    "sns.lineplot(y = dPred[:, 0], x = d['Date'], ax = ax)\n",
    "\n",
    "# plot validation\n",
    "valData = confirmedVal[confirmedVal['Province_State'] == COUNTRY]['ConfirmedCases']\n",
    "valDate = confirmedVal[confirmedVal['Province_State'] == COUNTRY]['Date']\n",
    "sns.lineplot(y = valData, x =valDate, ax = ax);\n",
    "\n",
    "ax.legend(['Train', 'Pred', 'Validation'])\n",
    "ax.grid(True)"
   ]
  },
  {
   "cell_type": "markdown",
   "metadata": {},
   "source": [
    "### Fatalities"
   ]
  }
 ],
 "metadata": {
  "kernelspec": {
   "display_name": "Python 3",
   "language": "python",
   "name": "python3"
  },
  "language_info": {
   "codemirror_mode": {
    "name": "ipython",
    "version": 3
   },
   "file_extension": ".py",
   "mimetype": "text/x-python",
   "name": "python",
   "nbconvert_exporter": "python",
   "pygments_lexer": "ipython3",
   "version": "3.7.7"
  }
 },
 "nbformat": 4,
 "nbformat_minor": 4
}
