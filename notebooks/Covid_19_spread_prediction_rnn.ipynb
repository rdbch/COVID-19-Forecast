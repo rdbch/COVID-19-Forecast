{
 "cells": [
  {
   "cell_type": "markdown",
   "metadata": {},
   "source": [
    "# COVID-19\n",
    "#### Fitting a RNN network onto country with similar growth"
   ]
  },
  {
   "cell_type": "markdown",
   "metadata": {},
   "source": [
    "The aim of this notebook is to provide a solution for predicting the feature spread of the COVID-19 pandemic using Reccurent Neural Networks. Besides this, it is inteded to be educational and to explaing some basic concepts of working and using a RNN in the context of multi-time series prediction."
   ]
  },
  {
   "cell_type": "markdown",
   "metadata": {},
   "source": [
    "## Introduction"
   ]
  },
  {
   "cell_type": "markdown",
   "metadata": {},
   "source": [
    "Training a single model for all countries can raise a multitude of problems one of them being data scaling. Neural networks need data represented in a small interval, usually in the range \\[-1, 1\\]. The samples that we are working with consist of the number of confirmed cases and fatalities, each of it being grouped by country. These entries have a very high standard deviation and trying to normalize this data by applying a single scale factor over the whole dataset will lead to into a big preccision loss and would not help at all. We address this problem by diving the training for each individual country and only consider its nearest neighbours inn terms of COVID-19 spread growth. "
   ]
  },
  {
   "cell_type": "markdown",
   "metadata": {},
   "source": [
    "## Imports"
   ]
  },
  {
   "cell_type": "markdown",
   "metadata": {},
   "source": [
    "Importing data from external packages."
   ]
  },
  {
   "cell_type": "code",
   "execution_count": 1,
   "metadata": {},
   "outputs": [],
   "source": [
    "import os\n",
    "import warnings \n",
    "warnings.filterwarnings('ignore')\n",
    "os.chdir('..')"
   ]
  },
  {
   "cell_type": "code",
   "execution_count": 2,
   "metadata": {},
   "outputs": [],
   "source": [
    "import time\n",
    "import torch\n",
    "import statistics\n",
    "\n",
    "import numpy   as np \n",
    "import pandas  as pd\n",
    "\n",
    "import seaborn as sns\n",
    "from matplotlib import pyplot as plt\n",
    "\n",
    "from sklearn.metrics       import mean_squared_log_error\n",
    "from sklearn.preprocessing import StandardScaler\n",
    "\n",
    "from tqdm.notebook    import tqdm\n",
    "from IPython.display  import display \n",
    "\n",
    "from torch import nn\n",
    "from torch import optim\n",
    "from torch.optim import lr_scheduler"
   ]
  },
  {
   "cell_type": "markdown",
   "metadata": {},
   "source": [
    "Import local packages"
   ]
  },
  {
   "cell_type": "code",
   "execution_count": 3,
   "metadata": {},
   "outputs": [],
   "source": [
    "from core.networks  import BasicRecurrentPredictor\n",
    "from core.nn        import WeightInitializer\n",
    "\n",
    "from core.data      import compare_countries as cc\n",
    "from core.data      import utils             as dataUtils\n",
    "\n",
    "from core.nn.loss   import l1_norm_error\n",
    "from core.nn.loss   import GradientSmoothLoss"
   ]
  },
  {
   "cell_type": "code",
   "execution_count": 4,
   "metadata": {},
   "outputs": [],
   "source": [
    "# sns.set()\n",
    "\n",
    "# set values for reproduceble results\n",
    "torch.manual_seed(123);\n",
    "torch.cuda.manual_seed(123)\n",
    "np.random.seed(123)\n",
    "torch.backends.cudnn.deterministic = True"
   ]
  },
  {
   "cell_type": "markdown",
   "metadata": {},
   "source": [
    "### Globals"
   ]
  },
  {
   "cell_type": "code",
   "execution_count": 5,
   "metadata": {},
   "outputs": [],
   "source": [
    "COUNTRY      = 'Italy'\n",
    "WIN_SIZE     = 10\n",
    "OBS_SIZE     = 5\n",
    "TRAIN_UP_TO  = pd.to_datetime('2020-04-25')\n",
    "DEVICE       = 'cpu'"
   ]
  },
  {
   "cell_type": "markdown",
   "metadata": {},
   "source": [
    "## Data"
   ]
  },
  {
   "cell_type": "markdown",
   "metadata": {},
   "source": [
    "The initial data which this notebook used is the one from [Kaggle's COVID-19 spread prediciton](https://www.kaggle.com/c/covid19-global-forecasting-week-4) competition. It consists of countries and their states(where needed) and the number of confirmed cases and fatalities per day. Because this source will no longer be updated, the data will be collected from this [GitHub](https://github.com/CSSEGISandData/COVID-19) reposity  created by Johns Hopkins CSSE. Also the sources ```.csv``` have different formats(columns), I have chosen to work with the original format.\n",
    "\n",
    "Inorder to use this notebook with the latest data, please run the script ```scripts/convert_data_format.py ```. This will download the data direct from the repo and convert it to the appropiate format."
   ]
  },
  {
   "cell_type": "markdown",
   "metadata": {},
   "source": [
    "### Loading the data"
   ]
  },
  {
   "cell_type": "code",
   "execution_count": 6,
   "metadata": {},
   "outputs": [
    {
     "data": {
      "text/html": [
       "<div>\n",
       "<style scoped>\n",
       "    .dataframe tbody tr th:only-of-type {\n",
       "        vertical-align: middle;\n",
       "    }\n",
       "\n",
       "    .dataframe tbody tr th {\n",
       "        vertical-align: top;\n",
       "    }\n",
       "\n",
       "    .dataframe thead th {\n",
       "        text-align: right;\n",
       "    }\n",
       "</style>\n",
       "<table border=\"1\" class=\"dataframe\">\n",
       "  <thead>\n",
       "    <tr style=\"text-align: right;\">\n",
       "      <th></th>\n",
       "      <th>Province_State</th>\n",
       "      <th>Country_Region</th>\n",
       "      <th>Date</th>\n",
       "      <th>ConfirmedCases</th>\n",
       "      <th>Fatalities</th>\n",
       "    </tr>\n",
       "  </thead>\n",
       "  <tbody>\n",
       "    <tr>\n",
       "      <th>0</th>\n",
       "      <td>NaN</td>\n",
       "      <td>Afghanistan</td>\n",
       "      <td>2020-01-22</td>\n",
       "      <td>0.0</td>\n",
       "      <td>0.0</td>\n",
       "    </tr>\n",
       "    <tr>\n",
       "      <th>1</th>\n",
       "      <td>NaN</td>\n",
       "      <td>Afghanistan</td>\n",
       "      <td>2020-01-23</td>\n",
       "      <td>0.0</td>\n",
       "      <td>0.0</td>\n",
       "    </tr>\n",
       "    <tr>\n",
       "      <th>2</th>\n",
       "      <td>NaN</td>\n",
       "      <td>Afghanistan</td>\n",
       "      <td>2020-01-24</td>\n",
       "      <td>0.0</td>\n",
       "      <td>0.0</td>\n",
       "    </tr>\n",
       "    <tr>\n",
       "      <th>3</th>\n",
       "      <td>NaN</td>\n",
       "      <td>Afghanistan</td>\n",
       "      <td>2020-01-25</td>\n",
       "      <td>0.0</td>\n",
       "      <td>0.0</td>\n",
       "    </tr>\n",
       "    <tr>\n",
       "      <th>4</th>\n",
       "      <td>NaN</td>\n",
       "      <td>Afghanistan</td>\n",
       "      <td>2020-01-26</td>\n",
       "      <td>0.0</td>\n",
       "      <td>0.0</td>\n",
       "    </tr>\n",
       "  </tbody>\n",
       "</table>\n",
       "</div>"
      ],
      "text/plain": [
       "  Province_State Country_Region       Date  ConfirmedCases  Fatalities\n",
       "0            NaN    Afghanistan 2020-01-22             0.0         0.0\n",
       "1            NaN    Afghanistan 2020-01-23             0.0         0.0\n",
       "2            NaN    Afghanistan 2020-01-24             0.0         0.0\n",
       "3            NaN    Afghanistan 2020-01-25             0.0         0.0\n",
       "4            NaN    Afghanistan 2020-01-26             0.0         0.0"
      ]
     },
     "execution_count": 6,
     "metadata": {},
     "output_type": "execute_result"
    }
   ],
   "source": [
    "allData = pd.read_csv('assets/covid_spread.csv', parse_dates=['Date'])\n",
    "allData.head()"
   ]
  },
  {
   "cell_type": "markdown",
   "metadata": {},
   "source": [
    "For make the data easier to use, I will work \"Province_State\" based. The preprocessing step will replace the Province_state with the name of the country (if it has no state)."
   ]
  },
  {
   "cell_type": "code",
   "execution_count": 7,
   "metadata": {},
   "outputs": [
    {
     "data": {
      "text/html": [
       "<div>\n",
       "<style scoped>\n",
       "    .dataframe tbody tr th:only-of-type {\n",
       "        vertical-align: middle;\n",
       "    }\n",
       "\n",
       "    .dataframe tbody tr th {\n",
       "        vertical-align: top;\n",
       "    }\n",
       "\n",
       "    .dataframe thead th {\n",
       "        text-align: right;\n",
       "    }\n",
       "</style>\n",
       "<table border=\"1\" class=\"dataframe\">\n",
       "  <thead>\n",
       "    <tr style=\"text-align: right;\">\n",
       "      <th></th>\n",
       "      <th>Province_State</th>\n",
       "      <th>Country_Region</th>\n",
       "      <th>Date</th>\n",
       "      <th>ConfirmedCases</th>\n",
       "      <th>Fatalities</th>\n",
       "    </tr>\n",
       "  </thead>\n",
       "  <tbody>\n",
       "    <tr>\n",
       "      <th>0</th>\n",
       "      <td>Afghanistan</td>\n",
       "      <td>Afghanistan</td>\n",
       "      <td>2020-01-22</td>\n",
       "      <td>0.0</td>\n",
       "      <td>0.0</td>\n",
       "    </tr>\n",
       "    <tr>\n",
       "      <th>1</th>\n",
       "      <td>Afghanistan</td>\n",
       "      <td>Afghanistan</td>\n",
       "      <td>2020-01-23</td>\n",
       "      <td>0.0</td>\n",
       "      <td>0.0</td>\n",
       "    </tr>\n",
       "    <tr>\n",
       "      <th>2</th>\n",
       "      <td>Afghanistan</td>\n",
       "      <td>Afghanistan</td>\n",
       "      <td>2020-01-24</td>\n",
       "      <td>0.0</td>\n",
       "      <td>0.0</td>\n",
       "    </tr>\n",
       "    <tr>\n",
       "      <th>3</th>\n",
       "      <td>Afghanistan</td>\n",
       "      <td>Afghanistan</td>\n",
       "      <td>2020-01-25</td>\n",
       "      <td>0.0</td>\n",
       "      <td>0.0</td>\n",
       "    </tr>\n",
       "    <tr>\n",
       "      <th>4</th>\n",
       "      <td>Afghanistan</td>\n",
       "      <td>Afghanistan</td>\n",
       "      <td>2020-01-26</td>\n",
       "      <td>0.0</td>\n",
       "      <td>0.0</td>\n",
       "    </tr>\n",
       "  </tbody>\n",
       "</table>\n",
       "</div>"
      ],
      "text/plain": [
       "  Province_State Country_Region       Date  ConfirmedCases  Fatalities\n",
       "0    Afghanistan    Afghanistan 2020-01-22             0.0         0.0\n",
       "1    Afghanistan    Afghanistan 2020-01-23             0.0         0.0\n",
       "2    Afghanistan    Afghanistan 2020-01-24             0.0         0.0\n",
       "3    Afghanistan    Afghanistan 2020-01-25             0.0         0.0\n",
       "4    Afghanistan    Afghanistan 2020-01-26             0.0         0.0"
      ]
     },
     "execution_count": 7,
     "metadata": {},
     "output_type": "execute_result"
    }
   ],
   "source": [
    "allData = dataUtils.preprocess_data(allData)\n",
    "allData.head()"
   ]
  },
  {
   "cell_type": "markdown",
   "metadata": {},
   "source": [
    "### Computing the errors"
   ]
  },
  {
   "cell_type": "markdown",
   "metadata": {},
   "source": [
    "In the previous notebook I have explained how getting the nearest neighbour work. But as a short revision, only take the countries which are more \"advanced\" in the pandemic that the source country, select the data using a threshold(for confirmed and fatalities discard everything that is smaller than this) and to search for the smallest error by slidding the source over the target and computing it at every step. The final error is represented by the smalles error, also it is stored the index from which that happened.  \n",
    "\n",
    "The result is a dataframe containing the following:\n",
    "- **Province_State** : the name of the state/province\n",
    "- **deathError**     : the minimum error that was found between source and that specific country for fatalities\n",
    "- **deathIdx**       : the index where the above error was found (in the thresholded array)\n",
    "- **confirmedError** : the minimum error that was found between source and that specific country for confirmed cases\n",
    "- **confirmedIdx**   : the index where the above error was found (in the thresholded array)\n",
    "\n",
    "When comparing, I choose to use **MAPE** (mean absolute percenta error). This will give us the error in percentage relative to the source country, hence being easier to interpret and understand.  \n"
   ]
  },
  {
   "cell_type": "code",
   "execution_count": 8,
   "metadata": {},
   "outputs": [
    {
     "data": {
      "text/html": [
       "<div>\n",
       "<style scoped>\n",
       "    .dataframe tbody tr th:only-of-type {\n",
       "        vertical-align: middle;\n",
       "    }\n",
       "\n",
       "    .dataframe tbody tr th {\n",
       "        vertical-align: top;\n",
       "    }\n",
       "\n",
       "    .dataframe thead th {\n",
       "        text-align: right;\n",
       "    }\n",
       "</style>\n",
       "<table border=\"1\" class=\"dataframe\">\n",
       "  <thead>\n",
       "    <tr style=\"text-align: right;\">\n",
       "      <th></th>\n",
       "      <th>Province_State</th>\n",
       "      <th>deathError</th>\n",
       "      <th>confirmedError</th>\n",
       "      <th>deathIdx</th>\n",
       "      <th>confirmedIdx</th>\n",
       "    </tr>\n",
       "  </thead>\n",
       "  <tbody>\n",
       "    <tr>\n",
       "      <th>0</th>\n",
       "      <td>Hubei</td>\n",
       "      <td>0.668961</td>\n",
       "      <td>0.482377</td>\n",
       "      <td>0</td>\n",
       "      <td>0</td>\n",
       "    </tr>\n",
       "  </tbody>\n",
       "</table>\n",
       "</div>"
      ],
      "text/plain": [
       "  Province_State  deathError  confirmedError deathIdx confirmedIdx\n",
       "0          Hubei    0.668961        0.482377        0            0"
      ]
     },
     "metadata": {},
     "output_type": "display_data"
    },
    {
     "data": {
      "text/html": [
       "<div>\n",
       "<style scoped>\n",
       "    .dataframe tbody tr th:only-of-type {\n",
       "        vertical-align: middle;\n",
       "    }\n",
       "\n",
       "    .dataframe tbody tr th {\n",
       "        vertical-align: top;\n",
       "    }\n",
       "\n",
       "    .dataframe thead th {\n",
       "        text-align: right;\n",
       "    }\n",
       "</style>\n",
       "<table border=\"1\" class=\"dataframe\">\n",
       "  <thead>\n",
       "    <tr style=\"text-align: right;\">\n",
       "      <th></th>\n",
       "      <th>Province_State</th>\n",
       "      <th>deathError</th>\n",
       "      <th>confirmedError</th>\n",
       "      <th>deathIdx</th>\n",
       "      <th>confirmedIdx</th>\n",
       "    </tr>\n",
       "  </thead>\n",
       "  <tbody>\n",
       "    <tr>\n",
       "      <th>0</th>\n",
       "      <td>Hubei</td>\n",
       "      <td>0.668961</td>\n",
       "      <td>0.482377</td>\n",
       "      <td>0</td>\n",
       "      <td>0</td>\n",
       "    </tr>\n",
       "  </tbody>\n",
       "</table>\n",
       "</div>"
      ],
      "text/plain": [
       "  Province_State  deathError  confirmedError deathIdx confirmedIdx\n",
       "0          Hubei    0.668961        0.482377        0            0"
      ]
     },
     "metadata": {},
     "output_type": "display_data"
    }
   ],
   "source": [
    "errorData  = cc.get_nearest_sequence(allData, COUNTRY, \n",
    "                                     alignThreshConf = 500,\n",
    "                                     alignThreshDead = 20,  \n",
    "                                     errorFunc       = l1_norm_error\n",
    "                                    )\n",
    "\n",
    "display(errorData.sort_values(by='confirmedError').head())\n",
    "display(errorData.sort_values(by='deathError').head())\n"
   ]
  },
  {
   "cell_type": "markdown",
   "metadata": {},
   "source": [
    "### Creating traning data"
   ]
  },
  {
   "cell_type": "markdown",
   "metadata": {},
   "source": [
    "We select the for training only the countries that have an average error smaller that a threshold. I do this for both confirmed cases and fatalities and this is due to the fact that there are goinf to be trained one RNN model for each attribute. This will be further splitted andtransformed into bacthes splitted into test and validation data."
   ]
  },
  {
   "cell_type": "code",
   "execution_count": 9,
   "metadata": {},
   "outputs": [
    {
     "data": {
      "text/html": [
       "<div>\n",
       "<style scoped>\n",
       "    .dataframe tbody tr th:only-of-type {\n",
       "        vertical-align: middle;\n",
       "    }\n",
       "\n",
       "    .dataframe tbody tr th {\n",
       "        vertical-align: top;\n",
       "    }\n",
       "\n",
       "    .dataframe thead th {\n",
       "        text-align: right;\n",
       "    }\n",
       "</style>\n",
       "<table border=\"1\" class=\"dataframe\">\n",
       "  <thead>\n",
       "    <tr style=\"text-align: right;\">\n",
       "      <th></th>\n",
       "      <th>Date</th>\n",
       "      <th>Province_State</th>\n",
       "      <th>ConfirmedCases</th>\n",
       "    </tr>\n",
       "  </thead>\n",
       "  <tbody>\n",
       "    <tr>\n",
       "      <th>7140</th>\n",
       "      <td>2020-01-22</td>\n",
       "      <td>Hubei</td>\n",
       "      <td>444.0</td>\n",
       "    </tr>\n",
       "    <tr>\n",
       "      <th>7141</th>\n",
       "      <td>2020-01-23</td>\n",
       "      <td>Hubei</td>\n",
       "      <td>444.0</td>\n",
       "    </tr>\n",
       "    <tr>\n",
       "      <th>7142</th>\n",
       "      <td>2020-01-24</td>\n",
       "      <td>Hubei</td>\n",
       "      <td>549.0</td>\n",
       "    </tr>\n",
       "    <tr>\n",
       "      <th>7143</th>\n",
       "      <td>2020-01-25</td>\n",
       "      <td>Hubei</td>\n",
       "      <td>761.0</td>\n",
       "    </tr>\n",
       "    <tr>\n",
       "      <th>7144</th>\n",
       "      <td>2020-01-26</td>\n",
       "      <td>Hubei</td>\n",
       "      <td>1058.0</td>\n",
       "    </tr>\n",
       "  </tbody>\n",
       "</table>\n",
       "</div>"
      ],
      "text/plain": [
       "           Date Province_State  ConfirmedCases\n",
       "7140 2020-01-22          Hubei           444.0\n",
       "7141 2020-01-23          Hubei           444.0\n",
       "7142 2020-01-24          Hubei           549.0\n",
       "7143 2020-01-25          Hubei           761.0\n",
       "7144 2020-01-26          Hubei          1058.0"
      ]
     },
     "execution_count": 9,
     "metadata": {},
     "output_type": "execute_result"
    }
   ],
   "source": [
    "confData = dataUtils.get_target_data(allData, errorData, \n",
    "                                     errorThresh = .75, \n",
    "                                     country     = COUNTRY, \n",
    "                                     target      = 'confirmed')\n",
    "deadData = dataUtils.get_target_data(allData, errorData, \n",
    "                                     errorThresh = .75, \n",
    "                                     country     = COUNTRY, \n",
    "                                     target      = 'fatalities')\n",
    "\n",
    "confData.head()"
   ]
  },
  {
   "cell_type": "markdown",
   "metadata": {},
   "source": [
    "One important aspect is scaling the date. I will use the [StandardScaler](https://scikit-learn.org/stable/modules/generated/sklearn.preprocessing.StandardScaler.html) because a small standard deviation is expected for features. This scaler will be further used for scaling both the training data and the model predictions."
   ]
  },
  {
   "cell_type": "code",
   "execution_count": 10,
   "metadata": {},
   "outputs": [],
   "source": [
    "confScaler = dataUtils.get_scaler(confData, 'confirmed')\n",
    "deadScaler = dataUtils.get_scaler(deadData, 'fatalities')"
   ]
  },
  {
   "cell_type": "markdown",
   "metadata": {},
   "source": [
    "## Predicting"
   ]
  },
  {
   "cell_type": "markdown",
   "metadata": {},
   "source": [
    "### Model"
   ]
  },
  {
   "cell_type": "markdown",
   "metadata": {},
   "source": [
    "The reccurent predictor is composed from 2 parts:\n",
    "- reccurent cells  \n",
    "- multi layer perceptron that is applied after each encoded timpestamp \n",
    "Each part will be individually configured. For a detailed view, you can consult [networks](core/networks) package."
   ]
  },
  {
   "cell_type": "markdown",
   "metadata": {},
   "source": [
    "We are going to train 2 individual models for each feature, Confirmed Cases and Fatalities. The reason for this _split_ is the fact the data is not of equal length and this would be a little bit of an overhead for solving in this notebook. "
   ]
  },
  {
   "cell_type": "markdown",
   "metadata": {},
   "source": [
    "In the following section, I will explain and motivate the configuration and personal choices that I have made: "
   ]
  },
  {
   "cell_type": "markdown",
   "metadata": {},
   "source": [
    "![RNN_Flow](../assets/images/rnn_model.png)"
   ]
  },
  {
   "cell_type": "markdown",
   "metadata": {},
   "source": [
    "#### Parameters"
   ]
  },
  {
   "cell_type": "markdown",
   "metadata": {},
   "source": [
    "These define overall shapes of the data and the size of the embeddings:\n",
    "- **chNo**   : the number of input and output features, they must have the same length, in out case this       \n",
    "- **future** : the number of timestapms to predict into the feature "
   ]
  },
  {
   "cell_type": "markdown",
   "metadata": {},
   "source": [
    "#### RNN parameters"
   ]
  },
  {
   "cell_type": "markdown",
   "metadata": {},
   "source": [
    "- **rnnCell** : RNN cell types that are supported in Pytorch (LSTM/GRU/RNN), the most powerfull one is LSTM, though, having a small amount of data(like in our case) GRU may be better choice thus is generalize better. RNNCell is also an option yet, but it yielded the worst results\n",
    "- **rnnNoCells** : represent the number of reccurent cells in the model a higher number leads to a very unstable model (especially for this task) and the exploding gradients problem occurs very often during training \n",
    "- **hidChNo** : number of RNN cell hidden dimension\n",
    "\n",
    "**Note**: yes, this part could have been implemented using the higher level and more optimized [API](https://pytorch.org/docs/stable/nn.html#torch.nn.LSTM) from PyTorch, but I think this is more expressive and easier to understand and it is not such does not require a lot more code"
   ]
  },
  {
   "cell_type": "markdown",
   "metadata": {},
   "source": [
    "#### MLP parameters"
   ]
  },
  {
   "cell_type": "markdown",
   "metadata": {},
   "source": [
    "- **mlpLayerCfg** : a list with the numbers of neurons in each hidden layer. The layers might be wideer but is to be avoided having a very deep network (numerical instability during training and no real benefit from it)\n",
    "- **mlpActiv** : activation layer after each dense/linear layer, I have used [PReLU](https://pytorch.org/docs/stable/nn.html#prelu) which is a sort of learnable loss \n",
    "- **dropRate** : dropout rate applied after each dense/linear layer, for our case 0 is used\n",
    "- **normType** : normalization layer, not used used\n",
    "- **mlpActivLast** : last layer activation function "
   ]
  },
  {
   "cell_type": "markdown",
   "metadata": {},
   "source": [
    "## Training"
   ]
  },
  {
   "cell_type": "markdown",
   "metadata": {},
   "source": [
    "Because the both Confirmed and Fatalities are going to follow the same lead and only a few parameters will vary, I will only explain once everything and add a few notes if that will be necessarly. "
   ]
  },
  {
   "cell_type": "code",
   "execution_count": 11,
   "metadata": {},
   "outputs": [],
   "source": [
    "w = WeightInitializer()"
   ]
  },
  {
   "cell_type": "markdown",
   "metadata": {},
   "source": [
    "### Confirmed"
   ]
  },
  {
   "cell_type": "markdown",
   "metadata": {},
   "source": [
    "For this section we have more data, since the cases have started earlier and the fatalities came later on. "
   ]
  },
  {
   "cell_type": "markdown",
   "metadata": {},
   "source": [
    "Let's initialize the model:"
   ]
  },
  {
   "cell_type": "code",
   "execution_count": 12,
   "metadata": {},
   "outputs": [],
   "source": [
    "# build the model\n",
    "confModel = BasicRecurrentPredictor(\n",
    "            # parameters\n",
    "            chNo        = 1,          # number of input features\n",
    "            future      = 0,\n",
    "            returnFullSeq = True,     # return both the encoded sequence \n",
    "                                      # and the future prediction\n",
    "    \n",
    "            # RNN\n",
    "            rnnCell     = 'LSTMCell', # RNN cell type (LSTM/GRU/RNN)\n",
    "            rnnNoCells  = 1,          # no of RNN cells\n",
    "            hidChNo     = 16,         # number of RNN cell hidden dimension\n",
    "            \n",
    "            # MLP\n",
    "            mlpLayerCfg   = [4],      # layer hidden dims\n",
    "            mlpActiv      = 'PReLU',  # inner activation of the mlp\n",
    "            dropRate      = None,     # dropout rate for each layer of mlp\n",
    "            normType      = None,     # normalization type\n",
    "            mlpActivLast  = None      # note that every timestamp \n",
    "                                      # in the sequence will be activated too\n",
    "            \n",
    "            ).build()"
   ]
  },
  {
   "cell_type": "markdown",
   "metadata": {},
   "source": [
    "Moving on, the model will have the weights initialized as as follows:\n",
    "- RNN : default (provided by PyTorch)\n",
    "- MLP : normal distribution"
   ]
  },
  {
   "cell_type": "code",
   "execution_count": 13,
   "metadata": {},
   "outputs": [],
   "source": [
    "w.init_weights(confModel, 'normal_', {})"
   ]
  },
  {
   "cell_type": "markdown",
   "metadata": {},
   "source": [
    "Split the dataframe from the previously selected data into batches and normalize it. The data is only select until a specific date, and the rest is left for validation.  "
   ]
  },
  {
   "cell_type": "code",
   "execution_count": 14,
   "metadata": {},
   "outputs": [
    {
     "data": {
      "text/plain": [
       "torch.Size([161, 10, 1])"
      ]
     },
     "execution_count": 14,
     "metadata": {},
     "output_type": "execute_result"
    }
   ],
   "source": [
    "confTrainData = dataUtils.get_train_data(confData, 'confirmed', \n",
    "                                  step       = 1,\n",
    "                                  winSize    = WIN_SIZE, \n",
    "                                  trainLimit = TRAIN_UP_TO, \n",
    "                                  scaler     = confScaler,\n",
    "                                  shuffle    = True)\n",
    "confTrainData.shape"
   ]
  },
  {
   "cell_type": "markdown",
   "metadata": {},
   "source": [
    "Now we need to define some more constants for training period. \n",
    "\n",
    "- future steps - the number of predicted days, not including the observation perioud\n",
    "- supPredSteps - are the number predicted days that are going to be optimized in a supervised manner\n",
    "- uPredSteps - are the number predicted days that are going to be optimized in an unsupervised manner\n",
    "- allPredSteps - the total length of the prediction output including the observation period and the future steps"
   ]
  },
  {
   "cell_type": "code",
   "execution_count": 15,
   "metadata": {},
   "outputs": [],
   "source": [
    "futureSteps   = 12\n",
    "supPredSteps  = WIN_SIZE - OBS_SIZE\n",
    "uPredSteps    = futureSteps - supPredSteps\n",
    "allPredSteps  = futureSteps + OBS_SIZE"
   ]
  },
  {
   "cell_type": "markdown",
   "metadata": {},
   "source": [
    "As training loss we use [SmoothL1Loss](https://pytorch.org/docs/stable/nn.html#torch.nn.SmoothL1Loss)(Huber Loss), it is less sensitive to outliers than MSELoss and prevents exploding gradients."
   ]
  },
  {
   "cell_type": "code",
   "execution_count": 16,
   "metadata": {},
   "outputs": [],
   "source": [
    "confLoss  = nn.SmoothL1Loss()"
   ]
  },
  {
   "cell_type": "markdown",
   "metadata": {},
   "source": [
    "It may not be very straight forward from data that the output should somehow resemble a logistic curve, so do this we are trying to optimize this in an unsupervised manner. A smoothing loss, is implied which will limit the growth of a function over a large periods. \n",
    "\n",
    "To better scale this loss and to make it more stable, insead of scaling the final result I chose clipping the values before averaging them. \n",
    "\n",
    "Please note that the the length of the prediciton and the clipping values are considered hyperparameters, and they should be tuned for each country."
   ]
  },
  {
   "cell_type": "code",
   "execution_count": 17,
   "metadata": {},
   "outputs": [],
   "source": [
    "gradsTrain = confTrainData[:, 1:] - confTrainData[:, :-1] \n",
    "confGradMax = gradsTrain.max()\n",
    "\n",
    "confGLoss = GradientSmoothLoss(confGradMax, uPredSteps)"
   ]
  },
  {
   "cell_type": "markdown",
   "metadata": {},
   "source": [
    "As optimization algorithm the LBFGS one is chosed, it is a very memory expensive algorithm, but since we have such little data, it works just fine. For more details about how it works I leave the following link on [Quora](https://www.quora.com/Is-the-L-bfgs-always-better-than-stochastic-gradient-descent?share=1)."
   ]
  },
  {
   "cell_type": "code",
   "execution_count": 18,
   "metadata": {},
   "outputs": [],
   "source": [
    "confOptim = optim.LBFGS(confModel.parameters(), \n",
    "                        lr             = 0.05, \n",
    "                        max_iter       = 75, \n",
    "                        tolerance_grad = 1e-7, \n",
    "                        history_size   = 75)"
   ]
  },
  {
   "cell_type": "markdown",
   "metadata": {},
   "source": [
    "Now let's move everything on the same device."
   ]
  },
  {
   "cell_type": "code",
   "execution_count": 19,
   "metadata": {},
   "outputs": [],
   "source": [
    "confModel.to(DEVICE);\n",
    "confTrainData = confTrainData.to(DEVICE);"
   ]
  },
  {
   "cell_type": "markdown",
   "metadata": {},
   "source": [
    "The closure is the function that is passed to the optimizers. Here is the \"bussines logic\" of the training process. For the first OBS_SIZE steps, the models prediction is based on the input data, from there, it usus it's own prediction. The whole sequence is returned and evaluted for optimization. \n",
    "\n",
    "For better stability, after the loss is computed, the gradients are clipped such that their L2 norm is 1. For more details check this [article](https://machinelearningmastery.com/exploding-gradients-in-neural-networks/) by Jason Brownlee."
   ]
  },
  {
   "cell_type": "code",
   "execution_count": 20,
   "metadata": {},
   "outputs": [],
   "source": [
    "def conf_closure():\n",
    "    confOptim.zero_grad()\n",
    "    confModel.returnFullSeq = True\n",
    "    \n",
    "    # slice data\n",
    "    obsData = confTrainData[:,:OBS_SIZE]\n",
    "    \n",
    "    # make prediction\n",
    "    out  = confModel(obsData, future = futureSteps)\n",
    "    out  = out.reshape(-1, allPredSteps, 1)\n",
    "    \n",
    "    # compute gradients\n",
    "    loss = confLoss(out[:, :WIN_SIZE], confTrainData)\n",
    "    \n",
    "    # unsupervised loss\n",
    "    smoothLoss = confGLoss(out[:,WIN_SIZE:], 0.25)\n",
    "    loss += smoothLoss \n",
    "   \n",
    "    loss.backward()\n",
    "    \n",
    "    # clip gradients / numerical stability\n",
    "    nn.utils.clip_grad_norm_(confModel.parameters(), 1.0)\n",
    "      \n",
    "    return loss"
   ]
  },
  {
   "cell_type": "markdown",
   "metadata": {},
   "source": [
    "Training loop"
   ]
  },
  {
   "cell_type": "code",
   "execution_count": 21,
   "metadata": {
    "scrolled": true
   },
   "outputs": [
    {
     "data": {
      "application/vnd.jupyter.widget-view+json": {
       "model_id": "00e29a696e9c4ae09f1aeeea692ab310",
       "version_major": 2,
       "version_minor": 0
      },
      "text/plain": [
       "HBox(children=(FloatProgress(value=0.0, max=10.0), HTML(value='')))"
      ]
     },
     "metadata": {},
     "output_type": "display_data"
    },
    {
     "name": "stdout",
     "output_type": "stream",
     "text": [
      "\n"
     ]
    }
   ],
   "source": [
    "pBar = tqdm(range(10))\n",
    "for i in pBar:\n",
    "    loss = confOptim.step(conf_closure)\n",
    "    pBar.set_postfix({'Loss ' : loss.item(), \n",
    "                      'Lr'    : confOptim.param_groups[0]['lr']})\n",
    "    \n",
    "    if torch.isnan(loss):\n",
    "        raise ValueError('Loss is NaN')"
   ]
  },
  {
   "cell_type": "markdown",
   "metadata": {},
   "source": [
    "#### Evaluate training"
   ]
  },
  {
   "cell_type": "markdown",
   "metadata": {},
   "source": [
    "The validation data includes the last OBS_SIZE from training data. This is going to be fed into the model to predict the future cases."
   ]
  },
  {
   "cell_type": "code",
   "execution_count": 22,
   "metadata": {},
   "outputs": [],
   "source": [
    "confValData, confValLabel = dataUtils.get_val_data(confData, 'confirmed', \n",
    "                                                   COUNTRY, \n",
    "                                                   TRAIN_UP_TO, \n",
    "                                                   OBS_SIZE, \n",
    "                                                   confScaler)\n",
    "confValData = confValData.to(DEVICE)"
   ]
  },
  {
   "cell_type": "markdown",
   "metadata": {},
   "source": [
    "For evaluating the prediction, MAPE is used. The error is only computed on the predicted future and not on the predicted observation period. "
   ]
  },
  {
   "cell_type": "code",
   "execution_count": 23,
   "metadata": {
    "scrolled": false
   },
   "outputs": [
    {
     "name": "stdout",
     "output_type": "stream",
     "text": [
      "MAPE : 0.03134  (not normalized)\n"
     ]
    },
    {
     "data": {
      "image/png": "[encoded data removed]",
      "text/plain": [
       "<Figure size 648x288 with 1 Axes>"
      ]
     },
     "metadata": {
      "needs_background": "light"
     },
     "output_type": "display_data"
    }
   ],
   "source": [
    "confModel.eval()\n",
    "# get figure\n",
    "fig, ax = plt.subplots(1, 1, figsize = (9, 4))\n",
    "ax.tick_params(axis='x', rotation=45)\n",
    "fig.suptitle(COUNTRY + ' confirmed cases prediction')\n",
    "\n",
    "# make prediction\n",
    "confModel.returnFullSeq = False\n",
    "pred   = confModel(confValData, future = 60).cpu().detach().numpy()\n",
    "pred   = confScaler.inverse_transform(pred[0])\n",
    "\n",
    "error  = l1_norm_error(pred[:confValLabel.shape[0]], confValLabel.numpy())\n",
    "print(\"MAPE : %2.5f\"% error.item(), ' (not normalized)')             \n",
    "\n",
    "# prediction\n",
    "predDate = pd.date_range(start = TRAIN_UP_TO, periods=pred.shape[0])              \n",
    "sns.lineplot(y = pred, x = predDate, ax = ax, linewidth=4.5)\n",
    "\n",
    "# plot train data\n",
    "showTrainData = confData[confData['Province_State'] == COUNTRY]\n",
    "showTrainData = showTrainData[showTrainData['Date'] < TRAIN_UP_TO]\n",
    "sns.lineplot(y = 'ConfirmedCases', x = 'Date', data = showTrainData, ax = ax, linewidth=4.5)\n",
    "\n",
    "# plot val data\n",
    "showValData = confData[confData['Province_State'] == COUNTRY]\n",
    "showValData = showValData[showValData['Date'] >= TRAIN_UP_TO]\n",
    "sns.lineplot(y = 'ConfirmedCases', x ='Date', data = showValData, ax = ax, linewidth=4.5);\n",
    "\n",
    "ax.legend(['Pred', 'Train', 'Validation'])\n",
    "ax.axvline(x=TRAIN_UP_TO, ymin = 0.0, ymax = 1.0, linestyle='--', lw = 1, color = '#808080')\n",
    "ax.grid(True)"
   ]
  },
  {
   "cell_type": "markdown",
   "metadata": {},
   "source": [
    "### Fatalities"
   ]
  },
  {
   "cell_type": "markdown",
   "metadata": {},
   "source": [
    "Initialize the model"
   ]
  },
  {
   "cell_type": "code",
   "execution_count": 24,
   "metadata": {},
   "outputs": [],
   "source": [
    "# build the model\n",
    "deadModel = BasicRecurrentPredictor(\n",
    "            # basic parameters\n",
    "            chNo        = 1,                # number of input features\n",
    "            future      = 0,\n",
    "            returnFullSeq = True,\n",
    "    \n",
    "            # RNN\n",
    "            rnnCell     = 'LSTMCell',       # RNN cell type (LSTM/GRU/RNN)\n",
    "            rnnNoCells  = 1,                # no of RNN cells\n",
    "            hidChNo     = 16,               # number of RNN cell hidden dimension\n",
    "    \n",
    "            # MLP\n",
    "            mlpLayerCfg   = [4],            # layer hidden dims\n",
    "            mlpActiv      = 'PReLU',        # inner activation of the mlp\n",
    "            dropRate      = None,           # dropout rate for each layer of mlp\n",
    "            normType      = None,           # normalization type\n",
    "            mlpActivLast  = None,           # note that every timestamp in the sequence \n",
    "                                            # will be activated too\n",
    "            ).build()"
   ]
  },
  {
   "cell_type": "markdown",
   "metadata": {},
   "source": [
    "Initialize models weights."
   ]
  },
  {
   "cell_type": "code",
   "execution_count": 25,
   "metadata": {},
   "outputs": [],
   "source": [
    "w.init_weights(deadModel, 'normal_', {})"
   ]
  },
  {
   "cell_type": "markdown",
   "metadata": {},
   "source": [
    "Get training data"
   ]
  },
  {
   "cell_type": "code",
   "execution_count": 26,
   "metadata": {},
   "outputs": [
    {
     "data": {
      "text/plain": [
       "torch.Size([140, 10, 1])"
      ]
     },
     "execution_count": 26,
     "metadata": {},
     "output_type": "execute_result"
    }
   ],
   "source": [
    "deadTrainData = dataUtils.get_train_data(deadData, 'fatalities', \n",
    "                                      step       = 1,\n",
    "                                      winSize    = WIN_SIZE, \n",
    "                                      trainLimit = TRAIN_UP_TO, \n",
    "                                      scaler     = deadScaler,\n",
    "                                      shuffle    = True)\n",
    "deadTrainData.shape"
   ]
  },
  {
   "cell_type": "code",
   "execution_count": 27,
   "metadata": {},
   "outputs": [],
   "source": [
    "futureSteps   = 20\n",
    "supPredSteps  = WIN_SIZE - OBS_SIZE\n",
    "uPredSteps    = futureSteps - supPredSteps\n",
    "allPredSteps  = futureSteps + OBS_SIZE"
   ]
  },
  {
   "cell_type": "markdown",
   "metadata": {},
   "source": [
    "Loss and optimizer"
   ]
  },
  {
   "cell_type": "code",
   "execution_count": 28,
   "metadata": {},
   "outputs": [],
   "source": [
    "deadLoss  = nn.SmoothL1Loss()\n",
    "deadOptim = optim.LBFGS(deadModel.parameters(), \n",
    "                        lr             = 0.05, \n",
    "                        max_iter       = 75, \n",
    "                        tolerance_grad = 1e-7, \n",
    "                        history_size   = 75)"
   ]
  },
  {
   "cell_type": "code",
   "execution_count": 29,
   "metadata": {},
   "outputs": [],
   "source": [
    "gradsTrain = deadTrainData[:, 1:] - deadTrainData[:, :-1] \n",
    "deadGradMax = gradsTrain.max()\n",
    "\n",
    "deadGLoss = GradientSmoothLoss(deadGradMax, uPredSteps)"
   ]
  },
  {
   "cell_type": "code",
   "execution_count": 30,
   "metadata": {},
   "outputs": [],
   "source": [
    "deadModel.to(DEVICE);\n",
    "deadTrainData = deadTrainData.to(DEVICE);"
   ]
  },
  {
   "cell_type": "code",
   "execution_count": 31,
   "metadata": {},
   "outputs": [],
   "source": [
    "def dead_closure():\n",
    "    deadOptim.zero_grad()\n",
    "    \n",
    "    # slice data\n",
    "    obsData  = deadTrainData[:,:OBS_SIZE]\n",
    "\n",
    "    out  = deadModel(obsData, future = futureSteps)\n",
    "    out  = out.reshape(-1, allPredSteps, 1)\n",
    " \n",
    "    # compute and backprop loss\n",
    "    loss = deadLoss(out[:, :WIN_SIZE], deadTrainData)   \n",
    "    loss.backward()\n",
    "    \n",
    "    # smooth\n",
    "    smoothLoss = deadGLoss(out[:,WIN_SIZE:], 0.35)\n",
    "    loss += smoothLoss\n",
    "    \n",
    "    # clip gradient for numerical stability\n",
    "    nn.utils.clip_grad_norm_(deadModel.parameters(), 1.0)\n",
    "    \n",
    "    return loss"
   ]
  },
  {
   "cell_type": "markdown",
   "metadata": {},
   "source": [
    "Training loop"
   ]
  },
  {
   "cell_type": "code",
   "execution_count": 32,
   "metadata": {},
   "outputs": [
    {
     "data": {
      "application/vnd.jupyter.widget-view+json": {
       "model_id": "f1c7dbfc5f9b4b0ebfee8443649325dd",
       "version_major": 2,
       "version_minor": 0
      },
      "text/plain": [
       "HBox(children=(FloatProgress(value=0.0, max=10.0), HTML(value='')))"
      ]
     },
     "metadata": {},
     "output_type": "display_data"
    },
    {
     "name": "stdout",
     "output_type": "stream",
     "text": [
      "\n"
     ]
    }
   ],
   "source": [
    "pBar = tqdm(range(10))\n",
    "for i in pBar:\n",
    "    loss = deadOptim.step(dead_closure)\n",
    "    pBar.set_postfix({'Loss ' : loss.item()})\n",
    "    \n",
    "    if torch.isnan(loss):\n",
    "        raise ValueError('Loss is NaN')"
   ]
  },
  {
   "cell_type": "markdown",
   "metadata": {},
   "source": [
    "#### Evaluate training"
   ]
  },
  {
   "cell_type": "code",
   "execution_count": 33,
   "metadata": {},
   "outputs": [],
   "source": [
    "deadValData, deadValLabel = dataUtils.get_val_data(deadData, 'fatalities', \n",
    "                                                   COUNTRY, \n",
    "                                                   TRAIN_UP_TO, \n",
    "                                                   OBS_SIZE, \n",
    "                                                   deadScaler)\n",
    "deadValData = deadValData.to(DEVICE)"
   ]
  },
  {
   "cell_type": "code",
   "execution_count": 34,
   "metadata": {},
   "outputs": [
    {
     "name": "stdout",
     "output_type": "stream",
     "text": [
      "MAPE:  0.03470518\n"
     ]
    },
    {
     "data": {
      "image/png": "[encoded data removed]",
      "text/plain": [
       "<Figure size 648x288 with 1 Axes>"
      ]
     },
     "metadata": {
      "needs_background": "light"
     },
     "output_type": "display_data"
    }
   ],
   "source": [
    "deadModel.eval()\n",
    "\n",
    "# get figure\n",
    "fig, ax = plt.subplots(1, 1, figsize = (9, 4))\n",
    "ax.tick_params(axis='x', rotation=90)\n",
    "fig.suptitle(COUNTRY + ' fatalities prediction')\n",
    "\n",
    "# make prediction\n",
    "deadModel.returnFullSeq = False\n",
    "pred   = deadModel(deadValData, future = 60).cpu().detach().numpy()\n",
    "pred   = deadScaler.inverse_transform(pred[0])\n",
    "error  = l1_norm_error(pred[:deadValLabel.shape[0]], deadValLabel.numpy())\n",
    "print('MAPE: ', error)             \n",
    "\n",
    "# plot prediction\n",
    "predDate = pd.date_range(start = TRAIN_UP_TO, periods=pred.shape[0])              \n",
    "sns.lineplot(y = pred, x = predDate, ax = ax, linewidth=4.5 )\n",
    "\n",
    "# plot train data\n",
    "showTrainData = deadData[deadData['Province_State'] == COUNTRY]\n",
    "showTrainData = showTrainData[showTrainData['Date'] < TRAIN_UP_TO]\n",
    "sns.lineplot(y = 'Fatalities', x = 'Date', data = showTrainData, ax = ax, linewidth=4.5)\n",
    "\n",
    "# plot val data\n",
    "showValData = deadData[deadData['Province_State'] == COUNTRY]\n",
    "showValData = showValData[showValData['Date'] >= TRAIN_UP_TO]\n",
    "sns.lineplot(y = 'Fatalities', x ='Date', data = showValData, ax = ax, linewidth=4.5);\n",
    "\n",
    "ax.legend(['Pred', 'Train', 'Validation'])\n",
    "ax.axvline(x=TRAIN_UP_TO, ymin = 0.0, ymax = 1.0, linestyle='--', lw = 1, color = '#808080')\n",
    "ax.grid(True)"
   ]
  }
 ],
 "metadata": {
  "kernelspec": {
   "display_name": "Python 3",
   "language": "python",
   "name": "python3"
  },
  "language_info": {
   "codemirror_mode": {
    "name": "ipython",
    "version": 3
   },
   "file_extension": ".py",
   "mimetype": "text/x-python",
   "name": "python",
   "nbconvert_exporter": "python",
   "pygments_lexer": "ipython3",
   "version": "3.7.7"
  }
 },
 "nbformat": 4,
 "nbformat_minor": 4
}
